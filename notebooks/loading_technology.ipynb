{
 "cells": [
  {
   "cell_type": "markdown",
   "metadata": {},
   "source": [
    "# Some examples of how to load klayout technology definition"
   ]
  },
  {
   "cell_type": "code",
   "execution_count": 1,
   "metadata": {},
   "outputs": [],
   "source": [
    "# Reload modules every time code is called. Set autoreload 0 to disable\n",
    "%load_ext autoreload\n",
    "%autoreload 2"
   ]
  },
  {
   "cell_type": "code",
   "execution_count": 2,
   "metadata": {},
   "outputs": [],
   "source": [
    "import phidl.technology as tech\n",
    "# from phidl import quickplot2 as qp"
   ]
  },
  {
   "cell_type": "code",
   "execution_count": 5,
   "metadata": {},
   "outputs": [
    {
     "name": "stdout",
     "output_type": "stream",
     "text": [
      "Initial:  OLMAC\n"
     ]
    }
   ],
   "source": [
    "print('Initial: ', tech.active_technology)  # At first, this picks the last technology used in the klayout application\n",
    "tech.set_technology_name('OLMAC')"
   ]
  },
  {
   "cell_type": "code",
   "execution_count": 6,
   "metadata": {},
   "outputs": [],
   "source": [
    "# Load in the layer properties, SiEPIC approach\n",
    "# tech.get_technology()\n",
    "\n",
    "# Load in the layer properties in phidl LayerSet format\n",
    "# tech.get_LayerSet()"
   ]
  },
  {
   "cell_type": "code",
   "execution_count": 7,
   "metadata": {},
   "outputs": [
    {
     "name": "stdout",
     "output_type": "stream",
     "text": [
      "['/Users/atait/.klayout/salt/soen_olmac_pdk/tech/OLMAC/drc/OLMAC.lydrc']\n"
     ]
    }
   ],
   "source": [
    "# Let's say for some reason you want to see the drc files\n",
    "print(tech.tech_files('*.lydrc'))"
   ]
  },
  {
   "cell_type": "markdown",
   "metadata": {},
   "source": [
    "## Properties\n",
    "Files of interest are `.xml`"
   ]
  },
  {
   "cell_type": "code",
   "execution_count": 8,
   "metadata": {},
   "outputs": [
    {
     "data": {
      "text/plain": [
       "{'vias': {'via': [{'name': 'NW Pad to Wiring',\n",
       "    'resistance': '0.0',\n",
       "    'resistivity': '0.0',\n",
       "    'via_component': {'layer': 'v3', 'min_size': '10.0'},\n",
       "    'component': [{'layer': 'm1_nwpad', 'inclusion': '4.0'},\n",
       "     {'layer': 'm5_wiring', 'inclusion': '2.0'}]},\n",
       "   {'name': 'LED Pad to Wiring',\n",
       "    'resistance': '0.0',\n",
       "    'resistivity': '0.0',\n",
       "    'via_component': {'layer': None, 'min_size': '10.0'},\n",
       "    'component': [{'layer': 'm4_ledpad', 'inclusion': '2.0'},\n",
       "     {'layer': 'm5_wiring', 'inclusion': '1.0'}]},\n",
       "   {'name': 'Bond Pad',\n",
       "    'resistance': '0.0',\n",
       "    'via_component': {'layer': 'v5', 'min_size': '40.0'},\n",
       "    'component': {'layer': 'm5_wiring', 'inclusion': '5.0'}},\n",
       "   {'name': 'Probe Pad',\n",
       "    'resistance': '0.0',\n",
       "    'via_component': {'layer': 'v5', 'min_size': '100.0'},\n",
       "    'component': {'layer': 'm5_wiring', 'inclusion': '5.0'}}]},\n",
       " 'waveguides': {'waveguide': [{'name': 'Strip',\n",
       "    'radius': '5.0',\n",
       "    'loss': '0.0',\n",
       "    'component': {'layer': 'wg_full', 'width': '0.5', 'offset': '0.0'}},\n",
       "   {'name': 'Ridge',\n",
       "    'radius': '20.0',\n",
       "    'loss': '0.0',\n",
       "    'component': [{'layer': 'wg_full', 'width': '0.5', 'offset': '0.0'},\n",
       "     {'layer': 'wg_partial', 'width': '3', 'offset': '0.0'}]}],\n",
       "  'transition': {'name': 'Strip to Ridge',\n",
       "   'length': '10',\n",
       "   'bezier': '0.0',\n",
       "   'loss': '0.0'}},\n",
       " 'wires': {'wire': [{'name': 'Nb1',\n",
       "    'component': {'layer': 'm5_wiring', 'min_width': '5'}},\n",
       "   {'name': 'NW TiAu', 'component': {'layer': 'm1_nwpad', 'min_width': '2'}}]},\n",
       " 'conductors': {'conductor': [{'name': 'Routing 1',\n",
       "    'type': 'metal',\n",
       "    'layer': 'm5_wiring',\n",
       "    'material': 'Nb',\n",
       "    'thickness': '0.1',\n",
       "    'sheet': '0.0'},\n",
       "   {'name': 'NW pad',\n",
       "    'type': 'metal',\n",
       "    'layer': 'm1_nwpad',\n",
       "    'material': 'Ti/Au',\n",
       "    'thickness': '0.090',\n",
       "    'sheet': '0.0'},\n",
       "   {'name': 'LED pad',\n",
       "    'type': 'metal',\n",
       "    'layer': 'm4_ledpad',\n",
       "    'material': 'Ti/Au',\n",
       "    'thickness': '0.090',\n",
       "    'sheet': '0.0'},\n",
       "   {'name': 'NW resistor',\n",
       "    'type': 'metal',\n",
       "    'layer': 'm3_res',\n",
       "    'material': 'PdAu',\n",
       "    'thickness': '0.060',\n",
       "    'sheet': '0.0'},\n",
       "   {'name': 'Silicon Rib',\n",
       "    'type': 'semiconductor',\n",
       "    'layer': 'wg_full',\n",
       "    'material': 'Si',\n",
       "    'thickness': '0.220',\n",
       "    'sheet': '0.0',\n",
       "    'doped': [{'name': 'P+',\n",
       "      'layer': 'dp_pp',\n",
       "      'species': 'B',\n",
       "      'concentration': '5e20',\n",
       "      'sheet': '0.0'},\n",
       "     {'name': 'N+',\n",
       "      'layer': 'dp_np',\n",
       "      'species': 'P',\n",
       "      'concentration': '5e20',\n",
       "      'sheet': '0.0'},\n",
       "     {'name': 'P',\n",
       "      'layer': 'dp_p',\n",
       "      'species': 'B',\n",
       "      'concentration': '1e17',\n",
       "      'sheet': '0.0'},\n",
       "     {'name': 'N',\n",
       "      'layer': 'dp_n',\n",
       "      'species': 'P',\n",
       "      'concentration': '1e17',\n",
       "      'sheet': '0.0'},\n",
       "     {'name': 'E',\n",
       "      'layer': 'dp_e',\n",
       "      'species': 'V',\n",
       "      'concentration': '1e17',\n",
       "      'sheet': '0.0'}]},\n",
       "   {'name': 'Silicon Partial',\n",
       "    'type': 'semiconductor',\n",
       "    'layer': 'wg_partial',\n",
       "    'material': 'Si',\n",
       "    'thickness': '0.070',\n",
       "    'sheet': '0.0',\n",
       "    'doped': [{'name': 'P+',\n",
       "      'layer': 'dp_pp',\n",
       "      'species': 'B',\n",
       "      'concentration': '5e20',\n",
       "      'sheet': '0.0'},\n",
       "     {'name': 'N+',\n",
       "      'layer': 'dp_np',\n",
       "      'species': 'P',\n",
       "      'concentration': '5e20',\n",
       "      'sheet': '0.0'},\n",
       "     {'name': 'P',\n",
       "      'layer': 'dp_p',\n",
       "      'species': 'B',\n",
       "      'concentration': '1e17',\n",
       "      'sheet': '0.0'},\n",
       "     {'name': 'N',\n",
       "      'layer': 'dp_n',\n",
       "      'species': 'P',\n",
       "      'concentration': '1e17',\n",
       "      'sheet': '0.0'},\n",
       "     {'name': 'E',\n",
       "      'layer': 'dp_e',\n",
       "      'species': 'V',\n",
       "      'concentration': '1e17',\n",
       "      'sheet': '0.0'}]}]}}"
      ]
     },
     "execution_count": 8,
     "metadata": {},
     "output_type": "execute_result"
    }
   ],
   "source": [
    "# load in some properties generically\n",
    "x = tech.tech_properties_dict()\n",
    "x"
   ]
  },
  {
   "cell_type": "code",
   "execution_count": 3,
   "metadata": {},
   "outputs": [
    {
     "data": {
      "text/plain": [
       "{'Strip': Waveguide(components=[WaveguideComponent(layer=wg_full, width=0.5, offset=0.0)], radius=5.0, loss=0.0),\n",
       " 'Ridge': Waveguide(components=[WaveguideComponent(layer=wg_full, width=0.5, offset=0.0), WaveguideComponent(layer=wg_partial, width=3, offset=0.0)], radius=20.0, loss=0.0)}"
      ]
     },
     "execution_count": 3,
     "metadata": {},
     "output_type": "execute_result"
    }
   ],
   "source": [
    "tech.WAVEGUIDES()"
   ]
  },
  {
   "cell_type": "code",
   "execution_count": 30,
   "metadata": {},
   "outputs": [],
   "source": [
    "tech.CONDUCTORS()\n",
    "x = tech.CONDUCTORS()['Silicon Rib'].doped_with('N')\n",
    "y = tech.CONDUCTORS()['Silicon Rib - N']\n"
   ]
  },
  {
   "cell_type": "code",
   "execution_count": null,
   "metadata": {},
   "outputs": [],
   "source": []
  }
 ],
 "metadata": {
  "kernelspec": {
   "display_name": "Python 3",
   "language": "python",
   "name": "python3"
  },
  "language_info": {
   "codemirror_mode": {
    "name": "ipython",
    "version": 3
   },
   "file_extension": ".py",
   "mimetype": "text/x-python",
   "name": "python",
   "nbconvert_exporter": "python",
   "pygments_lexer": "ipython3",
   "version": "3.6.4"
  }
 },
 "nbformat": 4,
 "nbformat_minor": 2
}
