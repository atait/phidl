{
 "cells": [
  {
   "cell_type": "markdown",
   "metadata": {},
   "source": [
    "# Some examples of how to load klayout technology definition"
   ]
  },
  {
   "cell_type": "code",
   "execution_count": 1,
   "metadata": {},
   "outputs": [],
   "source": [
    "# Reload modules every time code is called. Set autoreload 0 to disable\n",
    "%load_ext autoreload\n",
    "%autoreload 2"
   ]
  },
  {
   "cell_type": "code",
   "execution_count": 2,
   "metadata": {},
   "outputs": [],
   "source": [
    "import phidl.technology as tech\n",
    "# from phidl import quickplot2 as qp"
   ]
  },
  {
   "cell_type": "code",
   "execution_count": 3,
   "metadata": {},
   "outputs": [
    {
     "data": {
      "text/plain": [
       "'/Users/atait/Dropbox/Documents/gitProjects/layout-code/SOEN_PDK/klayout-dot-config/tech/OLMAC'"
      ]
     },
     "execution_count": 3,
     "metadata": {},
     "output_type": "execute_result"
    }
   ],
   "source": [
    "tech.TECHNOLOGY_PATH"
   ]
  },
  {
   "cell_type": "code",
   "execution_count": 6,
   "metadata": {},
   "outputs": [
    {
     "data": {
      "text/plain": [
       "{'name': 'OLMAC',\n",
       " 'description': None,\n",
       " 'dbu': '0.001',\n",
       " 'base-path': None,\n",
       " 'original-base-path': '~/.klayout/salt/soen_olmac_pdk/tech/OLMAC',\n",
       " 'layer-properties_file': 'klayout_layers_OLMAC.lyp',\n",
       " 'add-other-layers': 'true',\n",
       " 'reader-options': {'common': {'create-other-layers': 'true',\n",
       "   'layer-map': 'layer_map()',\n",
       "   'enable-properties': 'true',\n",
       "   'enable-text-objects': 'true'},\n",
       "  'gds2': {'box-mode': '1',\n",
       "   'allow-big-records': 'true',\n",
       "   'allow-multi-xy-records': 'true'},\n",
       "  'dxf': {'dbu': '0.001',\n",
       "   'unit': '1',\n",
       "   'text-scaling': '100',\n",
       "   'circle-points': '100',\n",
       "   'circle-accuracy': '0',\n",
       "   'polyline-mode': '0',\n",
       "   'render-texts-as-polygons': 'false',\n",
       "   'keep-other-cells': 'false',\n",
       "   'create-other-layers': 'true',\n",
       "   'layer-map': 'layer_map()'},\n",
       "  'cif': {'wire-mode': '0',\n",
       "   'dbu': '0.001',\n",
       "   'layer-map': 'layer_map()',\n",
       "   'create-other-layers': 'true'},\n",
       "  'lefdef': {'read-all-layers': 'true',\n",
       "   'layer-map': 'layer_map()',\n",
       "   'dbu': '0.001',\n",
       "   'produce-net-names': 'true',\n",
       "   'net-property-name': '#1',\n",
       "   'produce-inst-names': 'true',\n",
       "   'inst-property-name': '#1',\n",
       "   'produce-cell-outlines': 'true',\n",
       "   'cell-outline-layer': 'OUTLINE',\n",
       "   'produce-placement-blockages': 'true',\n",
       "   'placement-blockage-layer': 'PLACEMENT_BLK',\n",
       "   'produce-regions': 'true',\n",
       "   'region-layer': 'REGIONS',\n",
       "   'produce-via-geometry': 'true',\n",
       "   'via-geometry-suffix': None,\n",
       "   'via-geometry-datatype': '0',\n",
       "   'produce-pins': 'true',\n",
       "   'pins-suffix': '.PIN',\n",
       "   'pins-datatype': '2',\n",
       "   'produce-obstructions': 'true',\n",
       "   'obstructions-suffix': '.OBS',\n",
       "   'obstructions-datatype': '3',\n",
       "   'produce-blockages': 'true',\n",
       "   'blockages-suffix': '.BLK',\n",
       "   'blockages-datatype': '4',\n",
       "   'produce-labels': 'true',\n",
       "   'labels-suffix': '.LABEL',\n",
       "   'labels-datatype': '1',\n",
       "   'produce-routing': 'true',\n",
       "   'routing-suffix': None,\n",
       "   'routing-datatype': '0'}},\n",
       " 'writer-options': {'oasis': {'compression-level': '2',\n",
       "   'write-cblocks': 'false',\n",
       "   'strict-mode': 'false',\n",
       "   'write-std-properties': '1',\n",
       "   'subst-char': '*',\n",
       "   'permissive': 'false'},\n",
       "  'gds2': {'write-timestamps': 'true',\n",
       "   'write-cell-properties': 'false',\n",
       "   'write-file-properties': 'false',\n",
       "   'no-zero-length-paths': 'false',\n",
       "   'multi-xy-records': 'false',\n",
       "   'max-vertex-count': '8000',\n",
       "   'max-cellname-length': '32000',\n",
       "   'libname': 'LIB'},\n",
       "  'cif': [{'polygon-mode': '0'},\n",
       "   {'dummy-calls': 'false', 'blank-separator': 'false'}]},\n",
       " 'connectivity': ''}"
      ]
     },
     "execution_count": 6,
     "metadata": {},
     "output_type": "execute_result"
    }
   ],
   "source": [
    "tech.tech_top()['technology']"
   ]
  },
  {
   "cell_type": "code",
   "execution_count": 14,
   "metadata": {},
   "outputs": [
    {
     "name": "stdout",
     "output_type": "stream",
     "text": [
      "{'technology_name': 'OLMAC', 'dbu': '0.001', 'base_path': '/Users/atait/Dropbox/Documents/gitProjects/layout-code/SOEN_PDK/klayout-dot-config/tech/OLMAC', '1/0 - dp_p+ - (p+ doping)': Layer (name unnamed, GDS layer 1, GDS datatype 0, description None, color None), '2/0 - dp_n+ - (n+ doping)': Layer (name unnamed, GDS layer 2, GDS datatype 0, description None, color None), '3/0 - dp_p - (p doping)': Layer (name unnamed, GDS layer 3, GDS datatype 0, description None, color None), '4/0 - dp_n - (n doping)': Layer (name unnamed, GDS layer 4, GDS datatype 0, description None, color None), '5/0 - dp_e - (emitter doping)': Layer (name unnamed, GDS layer 5, GDS datatype 0, description None, color None), '11/0 - m1_nwpad - (nanowire wiring and pads)': Layer (name unnamed, GDS layer 11, GDS datatype 0, description None, color None), '11/99 - m1_nwgnd - (nanowire wiring and pads)': Layer (name unnamed, GDS layer 11, GDS datatype 99, description None, color None), '12/0 - m2_nw - (superconductor (wsi))': Layer (name unnamed, GDS layer 12, GDS datatype 0, description None, color None), '14/0 - m4_ledpad - (LED pads)': Layer (name unnamed, GDS layer 14, GDS datatype 0, description None, color None), '14/99 - m4_ledgnd - (LED ground)': Layer (name unnamed, GDS layer 14, GDS datatype 99, description None, color None), '15/0 - m3_res - (hTron AuPd resistors)': Layer (name unnamed, GDS layer 15, GDS datatype 0, description None, color None), '16/0 - m5_wiring - (wiring)': Layer (name unnamed, GDS layer 16, GDS datatype 0, description None, color None), '16/99 - m5_gnd - (Ground plane)': Layer (name unnamed, GDS layer 16, GDS datatype 99, description None, color None), '21/0 - wg_shallow - (shallow Si etch)': Layer (name unnamed, GDS layer 21, GDS datatype 0, description None, color None), '22/0 - wg_deep - (Si etch photolith)': Layer (name unnamed, GDS layer 22, GDS datatype 0, description None, color None), '31/0 - v3 - (via opening for wiring)': Layer (name unnamed, GDS layer 31, GDS datatype 0, description None, color None), '32/0 - v5 - (via opening for contact pads)': Layer (name unnamed, GDS layer 32, GDS datatype 0, description None, color None)}\n"
     ]
    }
   ],
   "source": [
    "lys = tech.get_technology_by_name(1)\n",
    "print(lys)"
   ]
  },
  {
   "cell_type": "code",
   "execution_count": 5,
   "metadata": {},
   "outputs": [
    {
     "ename": "ModuleNotFoundError",
     "evalue": "No module named 'pya'",
     "output_type": "error",
     "traceback": [
      "\u001b[0;31m---------------------------------------------------------------------------\u001b[0m",
      "\u001b[0;31mModuleNotFoundError\u001b[0m                       Traceback (most recent call last)",
      "\u001b[0;32m<ipython-input-5-67d19adf457d>\u001b[0m in \u001b[0;36m<module>\u001b[0;34m()\u001b[0m\n\u001b[0;32m----> 1\u001b[0;31m \u001b[0;32mimport\u001b[0m \u001b[0mSiEPIC\u001b[0m\u001b[0;34m\u001b[0m\u001b[0m\n\u001b[0m",
      "\u001b[0;32m~/.klayout/salt/siepic_tools/python/SiEPIC/__init__.py\u001b[0m in \u001b[0;36m<module>\u001b[0;34m()\u001b[0m\n\u001b[1;32m      1\u001b[0m \u001b[0m__version__\u001b[0m \u001b[0;34m=\u001b[0m \u001b[0;34m'0.3.43'\u001b[0m\u001b[0;34m\u001b[0m\u001b[0m\n\u001b[1;32m      2\u001b[0m \u001b[0;31m#from . import install, extend, _globals, core, examples, github, lumerical, scripts, utils, setup\u001b[0m\u001b[0;34m\u001b[0m\u001b[0;34m\u001b[0m\u001b[0m\n\u001b[0;32m----> 3\u001b[0;31m \u001b[0;32mfrom\u001b[0m \u001b[0;34m.\u001b[0m \u001b[0;32mimport\u001b[0m \u001b[0minstall\u001b[0m\u001b[0;34m,\u001b[0m \u001b[0mextend\u001b[0m\u001b[0;34m,\u001b[0m \u001b[0m_globals\u001b[0m\u001b[0;34m,\u001b[0m \u001b[0mcore\u001b[0m\u001b[0;34m,\u001b[0m \u001b[0mexamples\u001b[0m\u001b[0;34m,\u001b[0m \u001b[0mgithub\u001b[0m\u001b[0;34m,\u001b[0m \u001b[0mscripts\u001b[0m\u001b[0;34m,\u001b[0m \u001b[0mutils\u001b[0m\u001b[0;34m,\u001b[0m \u001b[0msetup\u001b[0m\u001b[0;34m\u001b[0m\u001b[0m\n\u001b[0m\u001b[1;32m      4\u001b[0m \u001b[0;34m\u001b[0m\u001b[0m\n",
      "\u001b[0;32m~/.klayout/salt/siepic_tools/python/SiEPIC/extend.py\u001b[0m in \u001b[0;36m<module>\u001b[0;34m()\u001b[0m\n\u001b[1;32m     56\u001b[0m \u001b[0;34m\u001b[0m\u001b[0m\n\u001b[1;32m     57\u001b[0m \u001b[0;34m\u001b[0m\u001b[0m\n\u001b[0;32m---> 58\u001b[0;31m \u001b[0;32mimport\u001b[0m \u001b[0mpya\u001b[0m\u001b[0;34m\u001b[0m\u001b[0m\n\u001b[0m\u001b[1;32m     59\u001b[0m \u001b[0;34m\u001b[0m\u001b[0m\n\u001b[1;32m     60\u001b[0m \u001b[0mwarning\u001b[0m \u001b[0;34m=\u001b[0m \u001b[0mpya\u001b[0m\u001b[0;34m.\u001b[0m\u001b[0mQMessageBox\u001b[0m\u001b[0;34m(\u001b[0m\u001b[0;34m)\u001b[0m\u001b[0;34m\u001b[0m\u001b[0m\n",
      "\u001b[0;31mModuleNotFoundError\u001b[0m: No module named 'pya'"
     ]
    }
   ],
   "source": [
    "import SiEPIC\n"
   ]
  },
  {
   "cell_type": "code",
   "execution_count": null,
   "metadata": {},
   "outputs": [],
   "source": [
    "# This sets a global variable. \n",
    "# It also verifies that that technology exists in a place that is visible to klayout\n",
    "tech.set_technology_by_name('OLMAC')\n",
    "print(tech.get_technology_name())  # OLMAC\n",
    "tech.set_technology_by_dir('~/.klayout/salt/SOEN_PDK/tech/OLMAC')  # no verification\n",
    "print(tech.get_technology_name())  # OLMAC"
   ]
  },
  {
   "cell_type": "markdown",
   "metadata": {},
   "source": [
    "## Files of interest are `.xml` and `.lyt`, \n",
    "(and the `.lyp` contained in the `OLMAC.lyt`)\n",
    "### We don't really care about `.lym`, `.lydrc`, `.xs` files"
   ]
  },
  {
   "cell_type": "code",
   "execution_count": null,
   "metadata": {},
   "outputs": [],
   "source": [
    "# load in some properties generically\n",
    "\n",
    "# Load in the layer properties, convert to a phidl format"
   ]
  },
  {
   "cell_type": "code",
   "execution_count": null,
   "metadata": {},
   "outputs": [],
   "source": [
    "# load in some property categories in a more useful format in terms of keys\n",
    "\n",
    "# Use a new layout function called waveguide (or something)\n",
    "#  It does NOT take layers as an argument, it takes 'Strip'\n",
    "#  It takes points and automatically rounds the corners\n",
    "#  (eventually) it could auto-widen"
   ]
  }
 ],
 "metadata": {
  "kernelspec": {
   "display_name": "Python 3",
   "language": "python",
   "name": "python3"
  },
  "language_info": {
   "codemirror_mode": {
    "name": "ipython",
    "version": 3
   },
   "file_extension": ".py",
   "mimetype": "text/x-python",
   "name": "python",
   "nbconvert_exporter": "python",
   "pygments_lexer": "ipython3",
   "version": "3.6.4"
  }
 },
 "nbformat": 4,
 "nbformat_minor": 2
}
