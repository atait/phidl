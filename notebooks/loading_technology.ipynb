{
 "cells": [
  {
   "cell_type": "markdown",
   "metadata": {},
   "source": [
    "# Some examples of how to load klayout technology definition"
   ]
  },
  {
   "cell_type": "code",
   "execution_count": null,
   "metadata": {},
   "outputs": [],
   "source": [
    "## For now, you need to spec"
   ]
  },
  {
   "cell_type": "code",
   "execution_count": 2,
   "metadata": {},
   "outputs": [],
   "source": [
    "import phidl.technology as tech\n",
    "from phidl import quickplot2 as qp"
   ]
  },
  {
   "cell_type": "code",
   "execution_count": null,
   "metadata": {},
   "outputs": [],
   "source": [
    "# This sets a global variable. \n",
    "# It also verifies that that technology exists in a place that is visible to klayout\n",
    "tech.set_technology_by_name('OLMAC')\n",
    "print(tech.get_technology_name())  # OLMAC\n",
    "tech.set_technology_by_dir('~/.klayout/salt/SOEN_PDK/tech/OLMAC')  # no verification\n",
    "print(tech.get_technology_name())  # OLMAC"
   ]
  },
  {
   "cell_type": "markdown",
   "metadata": {},
   "source": [
    "## Files of interest are `.xml` and `.lyt`, \n",
    "(and the `.lyp` contained in the `OLMAC.lyt`)\n",
    "### We don't really care about `.lym`, `.lydrc`, `.xs` files"
   ]
  },
  {
   "cell_type": "code",
   "execution_count": null,
   "metadata": {},
   "outputs": [],
   "source": [
    "# load in some properties generically\n",
    "\n",
    "# Load in the layer properties, convert to a phidl format"
   ]
  },
  {
   "cell_type": "code",
   "execution_count": null,
   "metadata": {},
   "outputs": [],
   "source": [
    "# load in some property categories in a more useful format in terms of keys\n",
    "\n",
    "# Use a new layout function called waveguide (or something)\n",
    "#  It does NOT take layers as an argument, it takes 'Strip'\n",
    "#  It takes points and automatically rounds the corners\n",
    "#  (eventually) it could auto-widen"
   ]
  }
 ],
 "metadata": {
  "kernelspec": {
   "display_name": "Python 3",
   "language": "python",
   "name": "python3"
  },
  "language_info": {
   "codemirror_mode": {
    "name": "ipython",
    "version": 3
   },
   "file_extension": ".py",
   "mimetype": "text/x-python",
   "name": "python",
   "nbconvert_exporter": "python",
   "pygments_lexer": "ipython3",
   "version": "3.6.4"
  }
 },
 "nbformat": 4,
 "nbformat_minor": 2
}
